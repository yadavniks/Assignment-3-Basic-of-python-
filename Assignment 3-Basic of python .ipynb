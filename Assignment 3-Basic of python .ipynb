{
 "cells": [
  {
   "cell_type": "code",
   "execution_count": null,
   "id": "9d688282-f990-4a9a-a11f-79e0d5c855e9",
   "metadata": {},
   "outputs": [],
   "source": [
    "#Exercise 1.Write a Python program that checks whether a given number is prime or not.\n",
    "#A prime number is a natural number greater than 1 that has no positive divisors other than 1 and itself.\n"
   ]
  },
  {
   "cell_type": "code",
   "execution_count": 9,
   "id": "5fc647ec-c50f-41fc-97fa-ebb0d88aa26b",
   "metadata": {},
   "outputs": [
    {
     "name": "stdin",
     "output_type": "stream",
     "text": [
      "Enter the Number 7\n"
     ]
    },
    {
     "name": "stdout",
     "output_type": "stream",
     "text": [
      "7 is prime\n"
     ]
    }
   ],
   "source": [
    "num=int(input(\"Enter the Number\"))\n",
    "if(num<1):\n",
    "    print\n",
    "\n",
    "for i in range(2,num):\n",
    "    if(num%i==0):\n",
    "        print(num,\"is not prime\")\n",
    "        break\n",
    "else:\n",
    " print(num,\"is prime\")\n",
    "\n"
   ]
  },
  {
   "cell_type": "code",
   "execution_count": null,
   "id": "c18a83a9-f3f5-4f0e-90be-297b186303d5",
   "metadata": {},
   "outputs": [],
   "source": [
    "#Exercise 2: Product of Random Numbers\n",
    "#Develop a Python program that generates two random numbers and asks the user to enter the product of these numbers.\n",
    "#The program should then check if the user's answer is correct and display an appropriate message.\n"
   ]
  },
  {
   "cell_type": "code",
   "execution_count": 13,
   "id": "c93b9945-793e-4cb9-82ac-592e0cd25235",
   "metadata": {},
   "outputs": [
    {
     "name": "stdout",
     "output_type": "stream",
     "text": [
      "What is the product of 5 and 3?\n"
     ]
    },
    {
     "name": "stdin",
     "output_type": "stream",
     "text": [
      "Enter your answer 15\n"
     ]
    },
    {
     "name": "stdout",
     "output_type": "stream",
     "text": [
      "Your ans is correct\n"
     ]
    }
   ],
   "source": [
    "import random\n",
    "#Generate two random number\n",
    "num1=random.randint(1,10)\n",
    "num2=random.randint(1,10)\n",
    "\n",
    "# Ask the user to enter the product of these numbers\n",
    "print(f\"What is the product of {num1} and {num2}?\")\n",
    "\n",
    "user_ans=int(input(\"Enter your answer\"))\n",
    "\n",
    "correct_ans=num1*num2\n",
    "\n",
    "if user_ans==correct_ans:\n",
    "    print(\"Your ans is correct\")\n",
    "else:\n",
    "    print(\"Your ans is Wrong\")\n"
   ]
  },
  {
   "cell_type": "code",
   "execution_count": null,
   "id": "fbd19e4d-91d5-40a7-b47c-665bb6ba9ec9",
   "metadata": {},
   "outputs": [],
   "source": [
    "# Exercise 3: Squares of Even/Odd Numbers\n",
    "# Create a Python script that prints the squares of all even or odd numbers within the range of 100 to 200. \n",
    "# Choose either even or odd numbers and document your choice in the code.\n"
   ]
  },
  {
   "cell_type": "code",
   "execution_count": 26,
   "id": "7d5e357c-1d8d-49d9-900e-69cd546781ad",
   "metadata": {},
   "outputs": [
    {
     "name": "stdout",
     "output_type": "stream",
     "text": [
      "The square of 100 is 10000\n",
      "The square of 102 is 10404\n",
      "The square of 104 is 10816\n",
      "The square of 106 is 11236\n",
      "The square of 108 is 11664\n",
      "The square of 110 is 12100\n",
      "The square of 112 is 12544\n",
      "The square of 114 is 12996\n",
      "The square of 116 is 13456\n",
      "The square of 118 is 13924\n",
      "The square of 120 is 14400\n",
      "The square of 122 is 14884\n",
      "The square of 124 is 15376\n",
      "The square of 126 is 15876\n",
      "The square of 128 is 16384\n",
      "The square of 130 is 16900\n",
      "The square of 132 is 17424\n",
      "The square of 134 is 17956\n",
      "The square of 136 is 18496\n",
      "The square of 138 is 19044\n",
      "The square of 140 is 19600\n",
      "The square of 142 is 20164\n",
      "The square of 144 is 20736\n",
      "The square of 146 is 21316\n",
      "The square of 148 is 21904\n",
      "The square of 150 is 22500\n",
      "The square of 152 is 23104\n",
      "The square of 154 is 23716\n",
      "The square of 156 is 24336\n",
      "The square of 158 is 24964\n",
      "The square of 160 is 25600\n",
      "The square of 162 is 26244\n",
      "The square of 164 is 26896\n",
      "The square of 166 is 27556\n",
      "The square of 168 is 28224\n",
      "The square of 170 is 28900\n",
      "The square of 172 is 29584\n",
      "The square of 174 is 30276\n",
      "The square of 176 is 30976\n",
      "The square of 178 is 31684\n",
      "The square of 180 is 32400\n",
      "The square of 182 is 33124\n",
      "The square of 184 is 33856\n",
      "The square of 186 is 34596\n",
      "The square of 188 is 35344\n",
      "The square of 190 is 36100\n",
      "The square of 192 is 36864\n",
      "The square of 194 is 37636\n",
      "The square of 196 is 38416\n",
      "The square of 198 is 39204\n",
      "The square of 200 is 40000\n"
     ]
    }
   ],
   "source": [
    "\n",
    "# Loop through numbers from 100 to 200\n",
    "for number in range(100, 201):\n",
    "    # Check if the number is even\n",
    "    if number % 2 == 0:\n",
    "        square = number ** 2\n",
    "        print(f\"The square of {number} is {square}\")\n",
    "        \n",
    "    "
   ]
  },
  {
   "cell_type": "code",
   "execution_count": 28,
   "id": "762602d3-48b3-4377-be34-a6b43fe9a0ad",
   "metadata": {},
   "outputs": [
    {
     "name": "stdout",
     "output_type": "stream",
     "text": [
      "The square of 101 is 10201\n",
      "The square of 103 is 10609\n",
      "The square of 105 is 11025\n",
      "The square of 107 is 11449\n",
      "The square of 109 is 11881\n",
      "The square of 111 is 12321\n",
      "The square of 113 is 12769\n",
      "The square of 115 is 13225\n",
      "The square of 117 is 13689\n",
      "The square of 119 is 14161\n",
      "The square of 121 is 14641\n",
      "The square of 123 is 15129\n",
      "The square of 125 is 15625\n",
      "The square of 127 is 16129\n",
      "The square of 129 is 16641\n",
      "The square of 131 is 17161\n",
      "The square of 133 is 17689\n",
      "The square of 135 is 18225\n",
      "The square of 137 is 18769\n",
      "The square of 139 is 19321\n",
      "The square of 141 is 19881\n",
      "The square of 143 is 20449\n",
      "The square of 145 is 21025\n",
      "The square of 147 is 21609\n",
      "The square of 149 is 22201\n",
      "The square of 151 is 22801\n",
      "The square of 153 is 23409\n",
      "The square of 155 is 24025\n",
      "The square of 157 is 24649\n",
      "The square of 159 is 25281\n",
      "The square of 161 is 25921\n",
      "The square of 163 is 26569\n",
      "The square of 165 is 27225\n",
      "The square of 167 is 27889\n",
      "The square of 169 is 28561\n",
      "The square of 171 is 29241\n",
      "The square of 173 is 29929\n",
      "The square of 175 is 30625\n",
      "The square of 177 is 31329\n",
      "The square of 179 is 32041\n",
      "The square of 181 is 32761\n",
      "The square of 183 is 33489\n",
      "The square of 185 is 34225\n",
      "The square of 187 is 34969\n",
      "The square of 189 is 35721\n",
      "The square of 191 is 36481\n",
      "The square of 193 is 37249\n",
      "The square of 195 is 38025\n",
      "The square of 197 is 38809\n",
      "The square of 199 is 39601\n"
     ]
    }
   ],
   "source": [
    "\n",
    "for number in range(100, 201):\n",
    "    if number % 2 != 0:\n",
    "        square = number ** 2\n",
    "        print(f\"The square of {number} is {square}\")"
   ]
  },
  {
   "cell_type": "code",
   "execution_count": null,
   "id": "0b42bf07-8a74-48ea-a195-492a0bc7f618",
   "metadata": {},
   "outputs": [],
   "source": [
    "# Exercise 4: Word counter\n",
    "# write a program to count the number of words in a given text.\n"
   ]
  },
  {
   "cell_type": "code",
   "execution_count": 38,
   "id": "b39cef5d-ecc8-4840-960a-5d0210112bbd",
   "metadata": {},
   "outputs": [
    {
     "name": "stdout",
     "output_type": "stream",
     "text": [
      " 'This':2\n",
      " 'is':1\n",
      " 'a':1\n",
      " 'sample':1\n",
      " 'text.':1\n",
      " 'text':1\n",
      " 'will':1\n",
      " 'be':1\n",
      " 'used':1\n",
      " 'to':1\n",
      " 'demonstrate':1\n",
      " 'the':1\n",
      " 'word':1\n",
      " 'counter.':1\n"
     ]
    }
   ],
   "source": [
    "input_text = \"This is a sample text. This text will be used to demonstrate the word counter.\"\n",
    "word=input_text.split() #split the text into words\n",
    "\n",
    "count={} #create a empty dictionary to store word counts\n",
    "\n",
    "for i in word:\n",
    "    if i in count:\n",
    "        count[i]+=1\n",
    "    else:\n",
    "        count[i]=1\n",
    "for i,counts in count.items():\n",
    "    print(f\" '{i}':{counts}\")"
   ]
  },
  {
   "cell_type": "code",
   "execution_count": null,
   "id": "e7081d8b-9172-4900-9568-421bf570f688",
   "metadata": {},
   "outputs": [],
   "source": [
    "# Exercise 5: Check for Palindrome\n",
    "# Write a Python function called is_palindrome that takes a string as input and returns True if the string is a palindrome, and False otherwise.\n",
    "# A palindrome is a word, phrase, number, or other sequence of characters that reads the same forward and backward, ignoring spaces, punctuation, and capitalization.\n"
   ]
  },
  {
   "cell_type": "code",
   "execution_count": 42,
   "id": "3721fd68-0cb2-46d8-a488-648d791237e5",
   "metadata": {},
   "outputs": [
    {
     "name": "stdin",
     "output_type": "stream",
     "text": [
      "Enter the String racecar\n"
     ]
    },
    {
     "data": {
      "text/plain": [
       "True"
      ]
     },
     "execution_count": 42,
     "metadata": {},
     "output_type": "execute_result"
    }
   ],
   "source": [
    "string=str(input(\"Enter the String\"))\n",
    "\n",
    "new_str= ''.join(char.lower() for char in string if char.isalnum())  #Remove spaces, punctuation, and convert to lowercase\n",
    "\n",
    "string1=new_str[::-1]\n",
    "\n",
    "result=(new_str==string1)\n",
    "result"
   ]
  },
  {
   "cell_type": "code",
   "execution_count": null,
   "id": "73f8c682-3198-474d-a8fc-9ee3466f8aee",
   "metadata": {},
   "outputs": [],
   "source": []
  }
 ],
 "metadata": {
  "kernelspec": {
   "display_name": "Python 3 (ipykernel)",
   "language": "python",
   "name": "python3"
  },
  "language_info": {
   "codemirror_mode": {
    "name": "ipython",
    "version": 3
   },
   "file_extension": ".py",
   "mimetype": "text/x-python",
   "name": "python",
   "nbconvert_exporter": "python",
   "pygments_lexer": "ipython3",
   "version": "3.12.7"
  }
 },
 "nbformat": 4,
 "nbformat_minor": 5
}
